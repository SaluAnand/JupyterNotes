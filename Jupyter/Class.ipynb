{
 "cells": [
  {
   "cell_type": "code",
   "execution_count": 27,
   "metadata": {},
   "outputs": [
    {
     "name": "stdout",
     "output_type": "stream",
     "text": [
      "simple class\n",
      "12345\n",
      "50\n",
      "60\n",
      "70\n",
      "10\n",
      "sam\n",
      "testemail\n",
      "After local assignment: test spam\n",
      "After nonlocal assignment: nonlocal spam\n",
      "After global assignment: nonlocal spam\n"
     ]
    }
   ],
   "source": [
    "class Employee(object):\n",
    "    \"\"\"simple class\"\"\"\n",
    "    i = 12345\n",
    "    def __init__(self,arg1,arg2,arg3):\n",
    "        self.id = arg1\n",
    "        self.name = arg2\n",
    "        self.email = arg3\n",
    "        \n",
    "    def printelements(self,listitems):\n",
    "        for i in listitems:\n",
    "            print(i)\n",
    "        print(self.id)\n",
    "        print(self.name)\n",
    "        print(self.email)\n",
    "        \n",
    "    def scope_test(self):\n",
    "        def do_local():\n",
    "            spam = \"local spam\"\n",
    "\n",
    "        def do_nonlocal():\n",
    "            nonlocal spam\n",
    "            spam = \"nonlocal spam\"\n",
    "\n",
    "        def do_global():\n",
    "            global spam\n",
    "            spam = \"global spam\"\n",
    "\n",
    "        spam = \"test spam\"\n",
    "        do_local()\n",
    "        print(\"After local assignment:\", spam)\n",
    "        do_nonlocal()\n",
    "        print(\"After nonlocal assignment:\", spam)\n",
    "        do_global()\n",
    "        print(\"After global assignment:\", spam)\n",
    "\n",
    "\n",
    "emp1 = Employee(10,'sam','testemail')\n",
    "print(emp1.__doc__)\n",
    "print(emp1.i)\n",
    "emp1.printelements([50,60,70])\n",
    "emp1.scope_test()\n",
    "    \n"
   ]
  }
 ],
 "metadata": {
  "kernelspec": {
   "display_name": "Python 3",
   "language": "python",
   "name": "python3"
  },
  "language_info": {
   "codemirror_mode": {
    "name": "ipython",
    "version": 3
   },
   "file_extension": ".py",
   "mimetype": "text/x-python",
   "name": "python",
   "nbconvert_exporter": "python",
   "pygments_lexer": "ipython3",
   "version": "3.6.4"
  }
 },
 "nbformat": 4,
 "nbformat_minor": 2
}
