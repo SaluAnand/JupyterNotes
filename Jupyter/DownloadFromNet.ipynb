{
 "cells": [
  {
   "cell_type": "code",
   "execution_count": null,
   "metadata": {},
   "outputs": [],
   "source": [
    "import urllib\n",
    "#import os\n",
    "import csv\n",
    "import tempfile\n",
    "import matplotlib.pyplot as plt\n",
    "\n",
    "file = tempfile.NamedTemporaryFile()\n",
    "dest  = file.name + 'data.csv'\n",
    "print(dest)\n",
    "Year = []\n",
    "population = []\n",
    "\n",
    "def download():\n",
    "    source = \"http://api.worldbank.org/countries/all/indicators/SP.POP.TOTL?format=csv\"\n",
    "    #urllib.request.Request(source,dest)\n",
    "    urllib.request.urlretrieve(source,dest)\n",
    "    \n",
    "def process():\n",
    "    # un-pivot the table\n",
    "    #fo = open(dest)\n",
    "    #lines = [ row for row in csv.reader(fo) ]\n",
    "    #headings = lines[0]\n",
    "    #lines = lines[1:]\n",
    "#\n",
    "    #outheadings = [ 'Country Name', 'Country Code', 'Year', 'Value' ]\n",
    "    #outlines = []\n",
    "#\n",
    "    #for row in lines:\n",
    "    #    for idx, year in enumerate(headings[2:]):\n",
    "    #        if row[idx+2]:\n",
    "    #            # do not convert to float as we end up with scientific notation\n",
    "    #            value = row[idx+2]\n",
    "    #            outlines.append(row[:2] + [int(year), value])\n",
    "#\n",
    "    #writer = csv.writer(open('population.csv', 'w'))\n",
    "    #writer.writerow(outheadings)\n",
    "    #writer.writerows(outlines)\n",
    "    with open('population.csv' , 'r') as f:\n",
    "        reader = csv.reader(f)\n",
    "        rownum = 0\n",
    "        for row in reader:\n",
    "            if(rownum >= 1):\n",
    "                Year.append(row[2])\n",
    "                population.append(row[3])\n",
    "            rownum = rownum + 1\n",
    "    \n",
    "download()\n",
    "process()\n",
    "plt.plot(Year,population)\n",
    "print(plt.show())\n"
   ]
  }
 ],
 "metadata": {
  "kernelspec": {
   "display_name": "Python 3",
   "language": "python",
   "name": "python3"
  },
  "language_info": {
   "codemirror_mode": {
    "name": "ipython",
    "version": 3
   },
   "file_extension": ".py",
   "mimetype": "text/x-python",
   "name": "python",
   "nbconvert_exporter": "python",
   "pygments_lexer": "ipython3",
   "version": "3.6.4"
  }
 },
 "nbformat": 4,
 "nbformat_minor": 2
}
