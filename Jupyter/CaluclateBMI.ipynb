{
 "cells": [
  {
   "cell_type": "code",
   "execution_count": 1,
   "metadata": {},
   "outputs": [
    {
     "name": "stdout",
     "output_type": "stream",
     "text": [
      "1.8\n",
      "82\n",
      "25.30864197530864\n",
      "64\n"
     ]
    }
   ],
   "source": [
    "height = 1.80\n",
    "weight = 82\n",
    "print(height)\n",
    "print(weight)\n",
    "\n",
    "#** -> square\n",
    "bmi = weight/height ** 2\n",
    "print(bmi)\n",
    "\n",
    "# to cehck the type\n",
    "type(bmi)\n",
    "\n",
    "print(4 ** 3)"
   ]
  },
  {
   "cell_type": "code",
   "execution_count": 4,
   "metadata": {},
   "outputs": [
    {
     "name": "stdout",
     "output_type": "stream",
     "text": [
      "Hi\n",
      "<class 'str'>\n",
      "<class 'bool'>\n"
     ]
    }
   ],
   "source": [
    "mystring = 'Hi'\n",
    "print(mystring)\n",
    "print(type(mystring))\n",
    "z = True\n",
    "print(type(z))"
   ]
  }
 ],
 "metadata": {
  "kernelspec": {
   "display_name": "Python 3",
   "language": "python",
   "name": "python3"
  },
  "language_info": {
   "codemirror_mode": {
    "name": "ipython",
    "version": 3
   },
   "file_extension": ".py",
   "mimetype": "text/x-python",
   "name": "python",
   "nbconvert_exporter": "python",
   "pygments_lexer": "ipython3",
   "version": "3.6.4"
  }
 },
 "nbformat": 4,
 "nbformat_minor": 2
}
