{
 "cells": [
  {
   "cell_type": "code",
   "execution_count": 1,
   "metadata": {},
   "outputs": [
    {
     "name": "stdout",
     "output_type": "stream",
     "text": [
      "1.8\n",
      "82\n",
      "25.30864197530864\n",
      "64\n"
     ]
    }
   ],
   "source": [
    "height = 1.80\n",
    "weight = 82\n",
    "print(height)\n",
    "print(weight)\n",
    "\n",
    "#** -> square\n",
    "bmi = weight/height ** 2\n",
    "print(bmi)\n",
    "\n",
    "# to cehck the type\n",
    "type(bmi)\n",
    "\n",
    "print(4 ** 3)"
   ]
  },
  {
   "cell_type": "code",
   "execution_count": 5,
   "metadata": {},
   "outputs": [
    {
     "name": "stdout",
     "output_type": "stream",
     "text": [
      "Hi\n",
      "<class 'str'>\n",
      "<class 'bool'>\n",
      "2\n"
     ]
    }
   ],
   "source": [
    "mystring = 'Hi'\n",
    "print(mystring)\n",
    "print(type(mystring))\n",
    "z = True\n",
    "print(type(z))\n",
    "print(z + 1)"
   ]
  },
  {
   "cell_type": "code",
   "execution_count": 14,
   "metadata": {},
   "outputs": [
    {
     "name": "stdout",
     "output_type": "stream",
     "text": [
      "100\n",
      "194.87171000000012\n",
      "<class 'int'>\n",
      "<class 'float'>\n",
      "printing saving 100 and result 194.87171000000012\n",
      "3.1415926456\n",
      "3.1415926456\n"
     ]
    }
   ],
   "source": [
    "savings = 100\n",
    "result = 100 * 1.10 ** 7\n",
    "print(savings)\n",
    "print(result)\n",
    "print(type(savings))\n",
    "print(type(result))\n",
    "print(\"printing saving \" + str(savings) + \" and result \" + str(result))\n",
    "pi_string = \"3.1415926\"\n",
    "print(pi_string)\n",
    "pi_float = float(pi_string)\n",
    "print(pi_float)\n"
   ]
  }
 ],
 "metadata": {
  "kernelspec": {
   "display_name": "Python 3",
   "language": "python",
   "name": "python3"
  },
  "language_info": {
   "codemirror_mode": {
    "name": "ipython",
    "version": 3
   },
   "file_extension": ".py",
   "mimetype": "text/x-python",
   "name": "python",
   "nbconvert_exporter": "python",
   "pygments_lexer": "ipython3",
   "version": "3.6.4"
  }
 },
 "nbformat": 4,
 "nbformat_minor": 2
}
