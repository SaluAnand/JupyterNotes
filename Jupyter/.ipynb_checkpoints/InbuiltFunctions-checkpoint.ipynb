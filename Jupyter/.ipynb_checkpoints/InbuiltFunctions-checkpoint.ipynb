{
 "cells": [
  {
   "cell_type": "code",
   "execution_count": 39,
   "metadata": {},
   "outputs": [
    {
     "name": "stdout",
     "output_type": "stream",
     "text": [
      "5.5\n",
      "1.1\n",
      "5\n",
      "5.5\n",
      "5.24\n",
      "5.2\n",
      "5\n",
      "4\n",
      "------------------------\n",
      "10.0\n",
      "200.0\n",
      "3000.0\n",
      "[5, 10, 20, 15, 7, 2, 12]\n",
      "[2, 5, 7, 10, 12, 15, 20]\n",
      "[20, 15, 12, 10, 7, 5, 2]\n",
      "[5, 10, 20, 15, 7, 2, 12]\n",
      "Help on built-in function round in module builtins:\n",
      "\n",
      "round(...)\n",
      "    round(number[, ndigits]) -> number\n",
      "    \n",
      "    Round a number to a given precision in decimal digits (default 0 digits).\n",
      "    This returns an int when called with one argument, otherwise the\n",
      "    same type as the number. ndigits may be negative.\n",
      "\n"
     ]
    }
   ],
   "source": [
    "x = [2.2,3.3,5.5,1.1]\n",
    "print(max(x))\n",
    "print(min(x))\n",
    "print(round(5.49))\n",
    "print(round(5.492,1))\n",
    "print(round(5.242,2))\n",
    "print(round(5.242,1))\n",
    "print(round(5.49))\n",
    "print(len(x))\n",
    "print(\"------------------------\")\n",
    "print(round(5.492,-1))\n",
    "print(round(214.492,-2))\n",
    "print(round(2504.492,-3))\n",
    "\n",
    "\n",
    "first = [5,10,20,15]\n",
    "second = [7,2,12]\n",
    "full = first + second\n",
    "print(full)\n",
    "print(sorted(full))\n",
    "print(sorted(full, reverse = True))\n",
    "print((full))\n",
    "help(round)"
   ]
  },
  {
   "cell_type": "code",
   "execution_count": 38,
   "metadata": {},
   "outputs": [
    {
     "name": "stdout",
     "output_type": "stream",
     "text": [
      "ef\n",
      "abd\n",
      "['ef', 'df', 'asd', 'abd']\n"
     ]
    }
   ],
   "source": [
    "x = [\"abd\",\"asd\",\"df\",\"ef\"]\n",
    "print(max(x))\n",
    "print(min(x))\n",
    "print(sorted(x, reverse = True))"
   ]
  },
  {
   "cell_type": "code",
   "execution_count": 74,
   "metadata": {},
   "outputs": [
    {
     "name": "stdout",
     "output_type": "stream",
     "text": [
      "['sam', 1.2, 'ann', 3.3, 'dhan', 1.2]\n",
      "2\n",
      "2\n",
      "1\n",
      "3\n",
      "Saluanand\n",
      "Sam\n",
      "skluknknd\n",
      "SALUANAND\n",
      "['a', 'a', 'a', 'd', 'l', 'n', 'n', 's', 'u']\n",
      "[1.2, 'dhan', 3.3, 'ann', 1.2, 'sam']\n"
     ]
    }
   ],
   "source": [
    "data = [\"sam\" , 1.2 , \"ann\" , 3.3 , \"dhan\" , 1.2 ]\n",
    "print(data)\n",
    "print(data.index(\"ann\"))#index of an item\n",
    "print(data.count(1.2))# no of occuenrance\n",
    "data1 = \"saluanand\"\n",
    "print(data1.index(\"a\"))\n",
    "print(data1.count(\"a\"))\n",
    "print(data1.capitalize())\n",
    "print(data[0].capitalize())\n",
    "print(data1.replace(\"a\",\"k\"))\n",
    "print(data1.upper())\n",
    "print(sorted(data1))\n",
    "data.reverse()\n",
    "print(data)\n"
   ]
  }
 ],
 "metadata": {
  "kernelspec": {
   "display_name": "Python 3",
   "language": "python",
   "name": "python3"
  },
  "language_info": {
   "codemirror_mode": {
    "name": "ipython",
    "version": 3
   },
   "file_extension": ".py",
   "mimetype": "text/x-python",
   "name": "python",
   "nbconvert_exporter": "python",
   "pygments_lexer": "ipython3",
   "version": "3.6.4"
  }
 },
 "nbformat": 4,
 "nbformat_minor": 2
}
