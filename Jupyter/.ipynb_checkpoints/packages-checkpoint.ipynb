{
 "cells": [
  {
   "cell_type": "code",
   "execution_count": 5,
   "metadata": {},
   "outputs": [
    {
     "name": "stdout",
     "output_type": "stream",
     "text": [
      "3.141592653589793\n",
      "0.7853981633974483\n"
     ]
    }
   ],
   "source": [
    "import numpy as n\n",
    "#from numpy import mean\n",
    "x = [10,20,30,40]\n",
    "#print(mean(x))\n",
    "r = 0.5\n",
    "c = 2 * n.math.pi * r\n",
    "print(c)\n",
    "a = n.math.pi * r ** 2\n",
    "print(a)"
   ]
  },
  {
   "cell_type": "code",
   "execution_count": 6,
   "metadata": {},
   "outputs": [
    {
     "name": "stdout",
     "output_type": "stream",
     "text": [
      "3.141592653589793\n",
      "0.7853981633974483\n"
     ]
    }
   ],
   "source": [
    "from numpy import math\n",
    "x = [10,20,30,40]\n",
    "#print(mean(x))\n",
    "r = 0.5\n",
    "c = 2 * math.pi * r\n",
    "print(c)\n",
    "a = math.pi * r ** 2\n",
    "print(a)"
   ]
  },
  {
   "cell_type": "code",
   "execution_count": 7,
   "metadata": {},
   "outputs": [
    {
     "name": "stdout",
     "output_type": "stream",
     "text": [
      "3.141592653589793\n",
      "0.7853981633974483\n"
     ]
    }
   ],
   "source": [
    "import numpy\n",
    "x = [10,20,30,40]\n",
    "#print(mean(x))\n",
    "r = 0.5\n",
    "c = 2 * numpy.math.pi * r\n",
    "print(c)\n",
    "a = numpy.math.pi * r ** 2\n",
    "print(a)"
   ]
  },
  {
   "cell_type": "code",
   "execution_count": 8,
   "metadata": {},
   "outputs": [
    {
     "name": "stdout",
     "output_type": "stream",
     "text": [
      "[10, 20, 30, 40, 50]\n"
     ]
    }
   ],
   "source": [
    "area = [10,20,30,40,50]\n",
    "print(area)\n"
   ]
  },
  {
   "cell_type": "code",
   "execution_count": 20,
   "metadata": {},
   "outputs": [
    {
     "name": "stdout",
     "output_type": "stream",
     "text": [
      "[ True False]\n",
      "[False  True]\n"
     ]
    }
   ],
   "source": [
    "import numpy as n\n",
    "a = n.array([20,30])\n",
    "b = n.array([10,40])\n",
    "print( a < 25)\n",
    "print( a < b)\n",
    "\n",
    "#c = [[20],[30]]\n",
    "#d = [[10],[40]]\n",
    "#print( c < 25)\n",
    "#print( c < d)\n"
   ]
  },
  {
   "cell_type": "code",
   "execution_count": 24,
   "metadata": {},
   "outputs": [
    {
     "data": {
      "text/plain": [
       "False"
      ]
     },
     "execution_count": 24,
     "metadata": {},
     "output_type": "execute_result"
    }
   ],
   "source": [
    "x = 8\n",
    "y = 9\n",
    "not(not(x < 3) and not(y > 14 or y > 10))"
   ]
  }
 ],
 "metadata": {
  "kernelspec": {
   "display_name": "Python 3",
   "language": "python",
   "name": "python3"
  },
  "language_info": {
   "codemirror_mode": {
    "name": "ipython",
    "version": 3
   },
   "file_extension": ".py",
   "mimetype": "text/x-python",
   "name": "python",
   "nbconvert_exporter": "python",
   "pygments_lexer": "ipython3",
   "version": "3.6.4"
  }
 },
 "nbformat": 4,
 "nbformat_minor": 2
}
