{
 "cells": [
  {
   "cell_type": "code",
   "execution_count": 14,
   "metadata": {},
   "outputs": [
    {
     "name": "stdout",
     "output_type": "stream",
     "text": [
      "10\n",
      "sam\n",
      "testemail\n"
     ]
    }
   ],
   "source": [
    "class Employee(object):\n",
    "    def __init__(self,arg1,arg2,arg3):\n",
    "        self.id = arg1\n",
    "        self.name = arg2\n",
    "        self.email = arg3\n",
    "    def printelements(self):\n",
    "        print(self.id)\n",
    "        print(self.name)\n",
    "        print(self.email)\n",
    "\n",
    "emp1 = Employee(10,'sam','testemail')\n",
    "emp1.printelements()\n",
    "    \n"
   ]
  }
 ],
 "metadata": {
  "kernelspec": {
   "display_name": "Python 3",
   "language": "python",
   "name": "python3"
  },
  "language_info": {
   "codemirror_mode": {
    "name": "ipython",
    "version": 3
   },
   "file_extension": ".py",
   "mimetype": "text/x-python",
   "name": "python",
   "nbconvert_exporter": "python",
   "pygments_lexer": "ipython3",
   "version": "3.6.4"
  }
 },
 "nbformat": 4,
 "nbformat_minor": 2
}
