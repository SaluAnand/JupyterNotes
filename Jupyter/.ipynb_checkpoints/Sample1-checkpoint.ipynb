{
 "cells": [
  {
   "cell_type": "code",
   "execution_count": 4,
   "metadata": {},
   "outputs": [
    {
     "name": "stdout",
     "output_type": "stream",
     "text": [
      "Hello\n",
      "1\n"
     ]
    }
   ],
   "source": [
    "print(\"Hello\")\n",
    "x = 1\n",
    "if x == 1 :\n",
    "    # comments\n",
    "    print (x)\n",
    "    \n",
    "    "
   ]
  },
  {
   "cell_type": "code",
   "execution_count": 15,
   "metadata": {},
   "outputs": [
    {
     "name": "stdout",
     "output_type": "stream",
     "text": [
      "1.41\n",
      "7\n",
      "7.0\n",
      "7.0\n",
      "7\n"
     ]
    }
   ],
   "source": [
    "height = 1.41\n",
    "print(height)\n",
    "myint = 7\n",
    "print(myint)\n",
    "myfloat = 7.0\n",
    "print(myfloat)\n",
    "myfloat = float(myfloat)\n",
    "print(myfloat)\n",
    "myfloat = int(myfloat)\n",
    "print(myfloat)\n"
   ]
  }
 ],
 "metadata": {
  "kernelspec": {
   "display_name": "Python 3",
   "language": "python",
   "name": "python3"
  },
  "language_info": {
   "codemirror_mode": {
    "name": "ipython",
    "version": 3
   },
   "file_extension": ".py",
   "mimetype": "text/x-python",
   "name": "python",
   "nbconvert_exporter": "python",
   "pygments_lexer": "ipython3",
   "version": "3.6.4"
  }
 },
 "nbformat": 4,
 "nbformat_minor": 2
}
