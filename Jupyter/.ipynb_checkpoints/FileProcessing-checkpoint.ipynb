{
 "cells": [
  {
   "cell_type": "code",
   "execution_count": 86,
   "metadata": {
    "scrolled": false
   },
   "outputs": [
    {
     "name": "stdout",
     "output_type": "stream",
     "text": [
      "['73', '74', '72', '73', '69', '72', '73', '75', '75', '73', '72', '72', '76', '74', '72', '77', '74', '77', '75', '76', '80', '74', '74', '75', '78', '73', '73', '74', '75', '76', '71', '73', '74', '76', '76', '74', '73', '74', '70', '72', '73', '73', '73', '73', '71', '74', '74', '72', '74', '71', '74', '73', '75', '75', '79', '73', '75', '76', '74', '76', '78', '74', '76', '72', '74', '76', '74', '75', '78', '75', '72', '74', '72', '74', '70', '71', '70', '75', '71', '71', '73', '72', '71', '73', '72', '75', '74', '74', '75', '73', '77', '73', '76', '75', '74', '76', '75', '73', '71', '76']\n",
      "[False False  True False]\n",
      "[ True  True  True  True]\n",
      "[ True  True False False]\n",
      "10\n",
      "20\n",
      "30\n",
      "40\n"
     ]
    },
    {
     "data": {
      "text/plain": [
       "array([1, 2])"
      ]
     },
     "execution_count": 86,
     "metadata": {},
     "output_type": "execute_result"
    }
   ],
   "source": [
    "import numpy as np\n",
    "import csv # works with csv file\n",
    "\n",
    "height = []\n",
    "weight = []\n",
    "with open('baseball.csv' , 'r') as f:\n",
    "    reader = csv.reader(f)\n",
    "    rownum = 0\n",
    "    for row in reader:\n",
    "        if(rownum >= 1):\n",
    "            height.append(row[3])\n",
    "            weight.append(row[4])\n",
    "            #bmi = int(row[3]) / int(row[4]) ** 2\n",
    "            #height.append(bmi)\n",
    "        rownum = rownum + 1\n",
    "#print(height)\n",
    "#print(weight)\n",
    "np_height = np.array(height)\n",
    "np_weight = np.array(weight)\n",
    "np_height = np_height.astype(np.float32 , copy = False)\n",
    "np_weight = np_weight.astype(np.float32 , copy = False)\n",
    "bmi = np_height / np_weight ** 2\n",
    "#print(bmi)\n",
    "\n",
    "#both index are inclusive\n",
    "newarray = height[100:200]\n",
    "print(newarray)\n",
    "\n",
    "#\n",
    "#logical and\n",
    "#logical or\n",
    "#logical not\n",
    "\n",
    "x = np.array([10,20,30,40])\n",
    "x > 20\n",
    "print(np.logical_and(x > 20 , x < 35))\n",
    "print(np.logical_or(x > 20 , x < 35))\n",
    "print(np.logical_not(x > 20 , x < 35))\n",
    "for i in np.nditer(x):\n",
    "    print(i)\n",
    "\n",
    "array1 = np.array([[1,3],\n",
    "                [2,4]])\n",
    "#array1\n",
    "#array1.shape\n",
    "#array1[0,1]\n",
    "#array1[1]\n",
    "array1[:,0]\n",
    "\n",
    "        \n",
    "#with open('baseball.csv', newline='') as csvfile:\n",
    "#    spamreader = csv.reader(csvfile, delimiter=' ', quotechar='|')\n",
    "#    for row in spamreader:\n",
    "#         print(', '.join(row))"
   ]
  },
  {
   "cell_type": "code",
   "execution_count": null,
   "metadata": {},
   "outputs": [],
   "source": []
  },
  {
   "cell_type": "code",
   "execution_count": 58,
   "metadata": {},
   "outputs": [],
   "source": [
    "import csv\n",
    "with open('sample.csv', 'w', newline='') as csvfile:\n",
    "    writer = csv.writer(csvfile)\n",
    "    writer.writerow(['header1', 'header2' , 'header3'])\n",
    "    writer.writerow(['data1', 'data2', 'data3'])\n"
   ]
  }
 ],
 "metadata": {
  "kernelspec": {
   "display_name": "Python 3",
   "language": "python",
   "name": "python3"
  },
  "language_info": {
   "codemirror_mode": {
    "name": "ipython",
    "version": 3
   },
   "file_extension": ".py",
   "mimetype": "text/x-python",
   "name": "python",
   "nbconvert_exporter": "python",
   "pygments_lexer": "ipython3",
   "version": "3.6.4"
  }
 },
 "nbformat": 4,
 "nbformat_minor": 2
}
