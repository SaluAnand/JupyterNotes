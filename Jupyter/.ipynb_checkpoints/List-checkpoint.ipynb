{
 "cells": [
  {
   "cell_type": "code",
   "execution_count": 23,
   "metadata": {},
   "outputs": [
    {
     "name": "stdout",
     "output_type": "stream",
     "text": [
      "[10, <class 'str'>, 'test', <class 'bool'>]\n",
      "[11.25, 18.0, 20.0, 10.75, 9.5]\n",
      "[['hall', 11.25], ['kit', 18.0], ['liv', 20.0], ['bed', 10.75], ['bath', 9.5]]\n",
      "[['liz', 1.73], ['emma', 1.68], ['mom', 1.71], ['dad', 1.89]]\n",
      "<class 'list'>\n",
      "['emma', 1.68]\n",
      "['dad', 1.89]\n",
      "[['kit', 18.0], ['liv', 20.0], ['bed', 10.75]]\n"
     ]
    }
   ],
   "source": [
    "[10,1.75,\"hello\",True]\n",
    "[10,1.75,\"hello\",type(True)]\n",
    "a = \"test\"\n",
    "mylist = [10,type(a),a,type(True)]\n",
    "mylist\n",
    "print(mylist)\n",
    "\n",
    "hall = 11.25\n",
    "kit = 18.0\n",
    "liv = 20.0\n",
    "bed = 10.75\n",
    "bath = 9.50\n",
    "\n",
    "areas = [hall,kit,liv,bed,bath]\n",
    "print(areas)\n",
    "areas = [[\"hall\",hall],[\"kit\",kit],[\"liv\",liv],[\"bed\",bed],[\"bath\",bath]]\n",
    "print(areas)\n",
    "fam = [[\"liz\",1.73],[\"emma\",1.68],[\"mom\",1.71],[\"dad\",1.89]]\n",
    "print(fam)\n",
    "print(type(fam))\n",
    "#getting data from the list\n",
    "print(fam[1])\n",
    "#the list has a reverese order as well\n",
    "print(fam[-1]) # the last element of the luist\n",
    "\n",
    "#get the data from index 1 - 3. here 4 is not included\n",
    "print(areas[1:4])"
   ]
  },
  {
   "cell_type": "code",
   "execution_count": 40,
   "metadata": {},
   "outputs": [
    {
     "name": "stdout",
     "output_type": "stream",
     "text": [
      "[['kit', 18.0], ['liv', 20.0], ['bed', 10.75]]\n",
      "[['kit', 18.0], ['liv', 20.0], ['bed', 10.75], ['bath', 9.5]]\n",
      "[['hall', 11.25], ['kit', 18.0], ['liv', 20.0], ['bed', 10.75]]\n",
      "[['bed', 10.75], ['bath', 9.5]]\n",
      "[['hall', 11.25], ['kit', 18.0], ['liv', 20.0], ['bed', 10.75], ['bath', 9.5]]\n",
      "[['hall', 11.25], ['kit', 18.0]]\n",
      "[['kit', 18.0], ['liv', 20.0], ['bed', 10.75]]\n",
      "[['bed', 10.75]]\n"
     ]
    }
   ],
   "source": [
    "areas = [[\"hall\",hall],[\"kit\",kit],[\"liv\",liv],[\"bed\",bed],[\"bath\",bath]]\n",
    "#get the data from index 1 - 3. here 4 is not included\n",
    "print(areas[1:4])\n",
    "# here no error eeven there is no value in the 5th index\n",
    "print(areas[1:6])\n",
    "# :4 means it takes the starting index as 0 and till 3\n",
    "print(areas[:4])\n",
    "# 3: means it starts from 3 and til the end\n",
    "print(areas[3:])\n",
    "# : means it starts from 0 and til the end\n",
    "print(areas[:])\n",
    "#it prints from 0 to -4\n",
    "#negative end starts from the last element (-1) till the end\n",
    "print(areas[:-3])\n",
    "#negative end starts from the last element (-1) till the end\n",
    "print(areas[-4:-1])\n",
    "#negative end starts from the last element (-1) till the end\n",
    "print(areas[3:-1])\n",
    "\n"
   ]
  },
  {
   "cell_type": "code",
   "execution_count": 74,
   "metadata": {},
   "outputs": [
    {
     "name": "stdout",
     "output_type": "stream",
     "text": [
      "28.75\n",
      "['hall', 11.25, 'kit', 18.0, 'liv', 20.0]\n",
      "['bed', 10.75, 'bath', 9.5]\n",
      "['kit']\n",
      "['halls', 10, 2, 20, 20, 'kit', 18.0, 'liv', 20.0, 'bed', 10.75, 'bath', 9.5]\n",
      "['halls', 10, 2, 20, 20, 'kit', 18.0, 'liv', 20.0, 'bed', 10.75, 'bath', 9.5]\n",
      "['halls', 10, 2, 20, 20, 'kit', 18.0, 'liv', 20.0, 'bed', 10.75, 'bath', 9.5, 'pool', 15]\n",
      "['halls', 10, 2, 20, 20, 'kit', 18.0, 'liv', 20.0, 'bed', 10.75, 'bath', 9.5, 'pool', 15]\n",
      "['halls', 10, 20, 'kit', 18.0, 'liv', 20.0, 'bed', 10.75, 'bath', 9.5, 'pool', 15]\n",
      "---------------------------\n",
      "['halls', 10, 20, 'kit', 18.0, 'liv', 20.0, 'bed', 10.75, 'bath', 9.5, 'pool', 15]\n",
      "['halls', 10, 20, 'kit', 18.0, 'liv', 20.0, 'bed', 10.75, 'bath', 9.5, 'pool', 15]\n",
      "---------------------------\n",
      "['halls', 10, 20, 50, 18.0, 'liv', 20.0, 'bed', 10.75, 'bath', 9.5, 'pool', 15]\n",
      "['halls', 10, 20, 50, 18.0, 'liv', 20.0, 'bed', 10.75, 'bath', 9.5, 'pool', 15]\n",
      "---------------------------\n",
      "['halls', 10, 20, 50, 18.0, 'liv', 20.0, 'bed', 10.75, 'bath', 9.5, 'pool', 15]\n",
      "['halls', 10, 20, 50, 18.0, 'liv', 20.0, 'bed', 10.75, 'bath', 9.5, 'pool', 15, 'liv', 20.0]\n",
      "---------------------------\n",
      "['halls', 10, 20, 50, 18.0, 'liv', 20.0, 'bed', 10.75, 'bath', 9.5, 'pool', 15]\n",
      "['halls', 10, 20, 50, 18.0, 'liv', 20.0, 'bed', 10.75, 'bath', 9.5, 'pool', 15]\n",
      "---------------------------\n",
      "['halls', 10, 20, 50, 18.0, 'liv', 20.0, 'bed', 10.75, 'bath', 9.5, 'pool', 15]\n",
      "['halls', 10, 20, 50, 18.0, 'liv', 20.0, 'bed', 10.75, 'bath', 9.5, 'pool', 15, 'liv', 20.0]\n",
      "---------------------------\n",
      "['test', 'test1', 20, 50, 18.0, 'liv', 20.0, 'bed', 10.75, 'bath', 9.5, 'pool', 15]\n",
      "['test', 'test1', 20, 50, 18.0, 'liv', 20.0, 'bed', 10.75, 'bath', 9.5, 'pool', 15]\n",
      "['test', 'test1', 20, 50, 18.0, 'liv', 20.0, 'bed', 10.75, 'bath', 9.5, 'pool', 15, 'test2', 'test3']\n",
      "['test', 'test1', 20, 50, 18.0, 'liv', 20.0, 'bed', 10.75, 'bath', 9.5, 'pool', 15]\n",
      "-------------------------------------------------------\n",
      "['a', 'b', 'c']\n",
      "['a', 'b', 'c']\n",
      "['a', 'b', 'c']\n",
      "['a', 'z', 'c']\n",
      "['a', 'b', 'c']\n",
      "['a', 'b', 'c']\n"
     ]
    }
   ],
   "source": [
    "hall = 11.25\n",
    "kit = 18.0\n",
    "liv = 20.0\n",
    "bed = 10.75\n",
    "bath = 9.50\n",
    "areas = [\"hall\",hall,\"kit\",kit,\"liv\",liv,\"bed\",bed,\"bath\",bath]\n",
    "print(areas[3] + areas[7])\n",
    "print(areas[:6])\n",
    "print(areas[6:])\n",
    "print(areas[2:3])\n",
    "#to change the values in the list\n",
    "areas[0:2] = [\"halls\",10 , 2 , 20 , 20]\n",
    "print(areas)\n",
    "#add new value to list\n",
    "areas + [\"pool\" , 15]\n",
    "print(areas)\n",
    "print(areas + [\"pool\" , 15])\n",
    "areas = areas + [\"pool\" , 15]\n",
    "print(areas)\n",
    "del(areas[2:4])\n",
    "print(areas)\n",
    "print(\"---------------------------\")\n",
    "areas_copy = areas\n",
    "print(areas)\n",
    "print(areas_copy)\n",
    "print(\"---------------------------\")\n",
    "areas_copy = areas\n",
    "areas_copy[3] = 50\n",
    "print(areas)\n",
    "print(areas_copy)\n",
    "print(\"---------------------------\")\n",
    "areas_copy = areas_copy + [\"liv\",liv]\n",
    "print(areas)\n",
    "print(areas_copy)\n",
    "print(\"---------------------------\")\n",
    "areas_copy1 = list(areas)\n",
    "print(areas)\n",
    "print(areas_copy1)\n",
    "print(\"---------------------------\")\n",
    "areas_copy1 = areas_copy1 + [\"liv\",liv]\n",
    "print(areas)\n",
    "print(areas_copy1)\n",
    "print(\"---------------------------\")\n",
    "areas_cop2 = areas\n",
    "areas[0:2] = [\"test\" , \"test1\"]\n",
    "print(areas)\n",
    "print(areas_cop2)\n",
    "areas = areas + [\"test2\" , \"test3\"]\n",
    "print(areas)\n",
    "print(areas_cop2)\n",
    "print(\"-------------------------------------------------------\")\n",
    "x = [\"a\" , \"b\" , \"c\"]\n",
    "y = x[:]\n",
    "print (x)\n",
    "print (y)\n",
    "y[1] = \"z\"\n",
    "print (x)\n",
    "print (y)\n"
   ]
  },
  {
   "cell_type": "code",
   "execution_count": 73,
   "metadata": {},
   "outputs": [
    {
     "name": "stdout",
     "output_type": "stream",
     "text": [
      "['hall', 11.25, 'kit', 18.0, 'liv', 20.0, 'bed', 10.75, 'bath', 9.5]\n",
      "['hall', 11.25, 'kit', 18.0, 'liv', 20.0, 'bed', 10.75, 'bath', 9.5]\n",
      "['hall', 11.25, 'kit', 18.0, 'liv', 20.0, 'bed', 10.75, 'bath', 9.5, 10]\n"
     ]
    }
   ],
   "source": [
    "hall = 11.25\n",
    "kit = 18.0\n",
    "liv = 20.0\n",
    "bed = 10.75\n",
    "bath = 9.50\n",
    "areas = [\"hall\",hall,\"kit\",kit,\"liv\",liv,\"bed\",bed,\"bath\",bath]\n",
    "#to change the values in the list\n",
    "#areas[0:2] = [\"halls\",10 , 2 , 20 , 20]\n",
    "print(areas)\n",
    "area1 = areas\n",
    "print(area1)\n",
    "print(areas)"
   ]
  }
 ],
 "metadata": {
  "kernelspec": {
   "display_name": "Python 3",
   "language": "python",
   "name": "python3"
  },
  "language_info": {
   "codemirror_mode": {
    "name": "ipython",
    "version": 3
   },
   "file_extension": ".py",
   "mimetype": "text/x-python",
   "name": "python",
   "nbconvert_exporter": "python",
   "pygments_lexer": "ipython3",
   "version": "3.6.4"
  }
 },
 "nbformat": 4,
 "nbformat_minor": 2
}
