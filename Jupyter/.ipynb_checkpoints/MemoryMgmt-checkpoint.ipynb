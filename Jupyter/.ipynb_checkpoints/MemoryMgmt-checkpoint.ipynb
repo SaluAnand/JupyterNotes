{
 "cells": [
  {
   "cell_type": "code",
   "execution_count": 3,
   "metadata": {},
   "outputs": [
    {
     "name": "stdout",
     "output_type": "stream",
     "text": [
      "1761767168\n",
      "1761767168\n",
      "1761767168\n",
      "1761767232\n",
      "1761767168\n",
      "1761767232\n",
      "1761767168\n"
     ]
    }
   ],
   "source": [
    "x = 10\n",
    "y = x\n",
    "print(id(x))\n",
    "print(id(y))\n",
    "y = 12\n",
    "print(id(x))\n",
    "print(id(y))\n",
    "z = 10\n",
    "print(id(x))\n",
    "print(id(y))\n",
    "print(id(z))\n",
    "# when value is same both point to same memory\n",
    "# when the value chanegs it points to another memory\n",
    "\n",
    "\n",
    "class car\n",
    "{\n",
    "    def f2(X):\n",
    "        x = x + 1;\n",
    "        return x\n",
    "    def f1(x):\n",
    "        x = x * 2;\n",
    "        y = f2(x)\n",
    "        return y\n",
    "    #main\n",
    "    y = 5\n",
    "    z = f1(y)\n",
    "}"
   ]
  }
 ],
 "metadata": {
  "kernelspec": {
   "display_name": "Python 3",
   "language": "python",
   "name": "python3"
  },
  "language_info": {
   "codemirror_mode": {
    "name": "ipython",
    "version": 3
   },
   "file_extension": ".py",
   "mimetype": "text/x-python",
   "name": "python",
   "nbconvert_exporter": "python",
   "pygments_lexer": "ipython3",
   "version": "3.6.4"
  }
 },
 "nbformat": 4,
 "nbformat_minor": 2
}
