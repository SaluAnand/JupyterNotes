{
 "cells": [
  {
   "cell_type": "code",
   "execution_count": 86,
   "metadata": {
    "scrolled": false
   },
   "outputs": [
    {
     "name": "stdout",
     "output_type": "stream",
     "text": [
      "['73', '74', '72', '73', '69', '72', '73', '75', '75', '73', '72', '72', '76', '74', '72', '77', '74', '77', '75', '76', '80', '74', '74', '75', '78', '73', '73', '74', '75', '76', '71', '73', '74', '76', '76', '74', '73', '74', '70', '72', '73', '73', '73', '73', '71', '74', '74', '72', '74', '71', '74', '73', '75', '75', '79', '73', '75', '76', '74', '76', '78', '74', '76', '72', '74', '76', '74', '75', '78', '75', '72', '74', '72', '74', '70', '71', '70', '75', '71', '71', '73', '72', '71', '73', '72', '75', '74', '74', '75', '73', '77', '73', '76', '75', '74', '76', '75', '73', '71', '76']\n",
      "[False False  True False]\n",
      "[ True  True  True  True]\n",
      "[ True  True False False]\n",
      "10\n",
      "20\n",
      "30\n",
      "40\n"
     ]
    },
    {
     "data": {
      "text/plain": [
       "array([1, 2])"
      ]
     },
     "execution_count": 86,
     "metadata": {},
     "output_type": "execute_result"
    }
   ],
   "source": [
    "import numpy as np\n",
    "import csv # works with csv file\n",
    "\n",
    "height = []\n",
    "weight = []\n",
    "with open('baseball.csv' , 'r') as f:\n",
    "    reader = csv.reader(f)\n",
    "    rownum = 0\n",
    "    for row in reader:\n",
    "        if(rownum >= 1):\n",
    "            height.append(row[3])\n",
    "            weight.append(row[4])\n",
    "            #bmi = int(row[3]) / int(row[4]) ** 2\n",
    "            #height.append(bmi)\n",
    "        rownum = rownum + 1\n",
    "#print(height)\n",
    "#print(weight)\n",
    "np_height = np.array(height)\n",
    "np_weight = np.array(weight)\n",
    "np_height = np_height.astype(np.float32 , copy = False)\n",
    "np_weight = np_weight.astype(np.float32 , copy = False)\n",
    "bmi = np_height / np_weight ** 2\n",
    "#print(bmi)\n",
    "\n",
    "#both index are inclusive\n",
    "newarray = height[100:200]\n",
    "print(newarray)\n",
    "\n",
    "#\n",
    "#logical and\n",
    "#logical or\n",
    "#logical not\n",
    "\n",
    "x = np.array([10,20,30,40])\n",
    "x > 20\n",
    "print(np.logical_and(x > 20 , x < 35))\n",
    "print(np.logical_or(x > 20 , x < 35))\n",
    "print(np.logical_not(x > 20 , x < 35))\n",
    "for i in np.nditer(x):\n",
    "    print(i)\n",
    "\n",
    "array1 = np.array([[1,3],\n",
    "                [2,4]])\n",
    "#array1\n",
    "#array1.shape\n",
    "#array1[0,1]\n",
    "#array1[1]\n",
    "array1[:,0]\n",
    "\n",
    "        \n",
    "#with open('baseball.csv', newline='') as csvfile:\n",
    "#    spamreader = csv.reader(csvfile, delimiter=' ', quotechar='|')\n",
    "#    for row in spamreader:\n",
    "#         print(', '.join(row))"
   ]
  },
  {
   "cell_type": "code",
   "execution_count": 101,
   "metadata": {},
   "outputs": [
    {
     "name": "stdout",
     "output_type": "stream",
     "text": [
      "[[2 4]\n",
      " [6 8]]\n",
      "[[2 4]\n",
      " [6 8]]\n",
      "[[ 1  4]\n",
      " [ 9 16]]\n"
     ]
    },
    {
     "ename": "TypeError",
     "evalue": "'builtin_function_or_method' object is not subscriptable",
     "output_type": "error",
     "traceback": [
      "\u001b[1;31m---------------------------------------------------------------------------\u001b[0m",
      "\u001b[1;31mTypeError\u001b[0m                                 Traceback (most recent call last)",
      "\u001b[1;32m<ipython-input-101-8a1df7d4c2db>\u001b[0m in \u001b[0;36m<module>\u001b[1;34m()\u001b[0m\n\u001b[0;32m      5\u001b[0m \u001b[0mprint\u001b[0m\u001b[1;33m(\u001b[0m\u001b[0mx\u001b[0m \u001b[1;33m+\u001b[0m \u001b[0mz\u001b[0m\u001b[1;33m)\u001b[0m\u001b[1;33m\u001b[0m\u001b[0m\n\u001b[0;32m      6\u001b[0m \u001b[0mprint\u001b[0m\u001b[1;33m(\u001b[0m\u001b[0my\u001b[0m \u001b[1;33m*\u001b[0m \u001b[0mz\u001b[0m\u001b[1;33m)\u001b[0m\u001b[1;33m\u001b[0m\u001b[0m\n\u001b[1;32m----> 7\u001b[1;33m \u001b[0mconversion\u001b[0m \u001b[1;33m=\u001b[0m \u001b[0mnp\u001b[0m\u001b[1;33m.\u001b[0m\u001b[0marray\u001b[0m\u001b[1;33m[\u001b[0m\u001b[1;36m0.1\u001b[0m\u001b[1;33m,\u001b[0m\u001b[1;36m0.2\u001b[0m\u001b[1;33m,\u001b[0m\u001b[1;36m0.3\u001b[0m\u001b[1;33m]\u001b[0m\u001b[1;33m\u001b[0m\u001b[0m\n\u001b[0m\u001b[0;32m      8\u001b[0m \u001b[0mprint\u001b[0m\u001b[1;33m(\u001b[0m\u001b[0mx\u001b[0m \u001b[1;33m*\u001b[0m \u001b[0mconversion\u001b[0m\u001b[1;33m)\u001b[0m\u001b[1;33m\u001b[0m\u001b[0m\n",
      "\u001b[1;31mTypeError\u001b[0m: 'builtin_function_or_method' object is not subscriptable"
     ]
    }
   ],
   "source": [
    "x = [[1,2],[3,4]]\n",
    "y = np.array(x)\n",
    "z = np.array([[1,2],[3,4]])\n",
    "print(y + z)\n",
    "print(x + z)\n",
    "print(y * z)\n",
    "conversion = np.array[0.1,0.2,0.3]\n",
    "print(x * conversion)"
   ]
  },
  {
   "cell_type": "code",
   "execution_count": 58,
   "metadata": {},
   "outputs": [],
   "source": [
    "import csv\n",
    "with open('sample.csv', 'w', newline='') as csvfile:\n",
    "    writer = csv.writer(csvfile)\n",
    "    writer.writerow(['header1', 'header2' , 'header3'])\n",
    "    writer.writerow(['data1', 'data2', 'data3'])\n"
   ]
  }
 ],
 "metadata": {
  "kernelspec": {
   "display_name": "Python 3",
   "language": "python",
   "name": "python3"
  },
  "language_info": {
   "codemirror_mode": {
    "name": "ipython",
    "version": 3
   },
   "file_extension": ".py",
   "mimetype": "text/x-python",
   "name": "python",
   "nbconvert_exporter": "python",
   "pygments_lexer": "ipython3",
   "version": "3.6.4"
  }
 },
 "nbformat": 4,
 "nbformat_minor": 2
}
