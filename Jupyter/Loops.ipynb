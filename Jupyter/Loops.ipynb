{
 "cells": [
  {
   "cell_type": "code",
   "execution_count": 3,
   "metadata": {},
   "outputs": [
    {
     "name": "stdout",
     "output_type": "stream",
     "text": [
      "Even\n"
     ]
    }
   ],
   "source": [
    "x = 4\n",
    "if x % 2 == 0 :\n",
    "    print(\"Even\")\n",
    "elif x % 5 == 0 :\n",
    "    print(\"Odd\")\n",
    "else :\n",
    "    print(\"nothing\")\n"
   ]
  },
  {
   "cell_type": "code",
   "execution_count": 14,
   "metadata": {},
   "outputs": [
    {
     "name": "stdout",
     "output_type": "stream",
     "text": [
      "20\n",
      "10\n",
      "50\n",
      "30\n",
      "40\n",
      "index 0 value 20\n",
      "index 1 value 10\n",
      "index 2 value 50\n",
      "index 3 value 30\n",
      "index 4 value 40\n"
     ]
    }
   ],
   "source": [
    "height = [20,10,50,30,40]\n",
    "for h in height :\n",
    "    print(h)\n",
    "for index , h in enumerate(height) :\n",
    "    print(\"index \" + str(index) + \" value \" + str(h))"
   ]
  },
  {
   "cell_type": "code",
   "execution_count": 15,
   "metadata": {},
   "outputs": [
    {
     "name": "stdout",
     "output_type": "stream",
     "text": [
      "20\n",
      "10\n",
      "50\n",
      "30\n",
      "40\n",
      "index 0 value 20\n",
      "index 1 value 10\n",
      "index 2 value 50\n",
      "index 3 value 30\n",
      "index 4 value 40\n"
     ]
    }
   ],
   "source": [
    "height = [\"20\",\"10\",\"50\",\"30\",\"40\"]\n",
    "for h in height :\n",
    "    print(h)\n",
    "for index , h in enumerate(height) :\n",
    "    print(\"index \" + str(index) + \" value \" + h)"
   ]
  },
  {
   "cell_type": "code",
   "execution_count": 6,
   "metadata": {},
   "outputs": [
    {
     "name": "stdout",
     "output_type": "stream",
     "text": [
      "1\n",
      "2\n",
      "3\n"
     ]
    }
   ],
   "source": [
    "x = 1\n",
    "while x < 4 :\n",
    "    print (x)\n",
    "    x = x + 1"
   ]
  }
 ],
 "metadata": {
  "kernelspec": {
   "display_name": "Python 3",
   "language": "python",
   "name": "python3"
  },
  "language_info": {
   "codemirror_mode": {
    "name": "ipython",
    "version": 3
   },
   "file_extension": ".py",
   "mimetype": "text/x-python",
   "name": "python",
   "nbconvert_exporter": "python",
   "pygments_lexer": "ipython3",
   "version": "3.6.4"
  }
 },
 "nbformat": 4,
 "nbformat_minor": 2
}
